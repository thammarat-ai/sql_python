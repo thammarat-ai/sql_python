{
 "cells": [
  {
   "cell_type": "code",
   "execution_count": 2,
   "metadata": {},
   "outputs": [],
   "source": [
    "# import sys\n",
    "# !{sys.executable} -m pip install fpdf -q \n",
    "# !{sys.executable} -m pip install pandas -q\n",
    "# !{sys.executable} -m pip install plotly-express -q\n",
    "# !{sys.executable} -m pip install kaleido -q\n",
    "\n"
   ]
  },
  {
   "cell_type": "code",
   "execution_count": 3,
   "metadata": {},
   "outputs": [],
   "source": [
    "from datetime import date\n",
    "from pathlib import Path\n",
    "import sqlite3\n",
    "\n",
    "import pandas as pd \n",
    "import plotly.express as px\n",
    "from fpdf import FPDF"
   ]
  },
  {
   "attachments": {},
   "cell_type": "markdown",
   "metadata": {},
   "source": [
    "# Defind paths and chart style"
   ]
  },
  {
   "cell_type": "code",
   "execution_count": 4,
   "metadata": {},
   "outputs": [],
   "source": [
    "# Define the plotly template. Some other examples:\n",
    "# \"plotly\", \"plotly_white\", \"plotly_dark\", \"ggplot2\", \"seaborn\", \"simple_white\", \"none\"\n",
    "plotly_template = \"presentation\""
   ]
  },
  {
   "cell_type": "code",
   "execution_count": 6,
   "metadata": {},
   "outputs": [],
   "source": [
    "# Define the paths\n",
    "current_dir = Path(__file__).parent if \"__file__\" in locals() else Path.cwd()\n",
    "database_path = current_dir / \"sales.db\"\n",
    "output_dir = current_dir / \"output\"\n",
    "\n",
    "# Create the output directory and its parent directories if they don't exist\n",
    "output_dir.mkdir(parents=True, exist_ok=True)"
   ]
  },
  {
   "attachments": {},
   "cell_type": "markdown",
   "metadata": {},
   "source": [
    "# Total Sales by Month"
   ]
  },
  {
   "cell_type": "code",
   "execution_count": 7,
   "metadata": {},
   "outputs": [],
   "source": [
    "# Create a connection to the database\n",
    "conn = sqlite3.connect(database_path)"
   ]
  },
  {
   "cell_type": "code",
   "execution_count": 8,
   "metadata": {},
   "outputs": [],
   "source": [
    "# Execute the query and load the results into a pandas DataFrame\n",
    "query = '''\n",
    "SELECT sale_date, SUM(total_price) AS total_sales\n",
    "FROM sales\n",
    "GROUP BY sale_date\n",
    "ORDER BY sale_date ASC\n",
    "'''\n",
    "df = pd.read_sql_query(query, conn)"
   ]
  },
  {
   "cell_type": "code",
   "execution_count": 9,
   "metadata": {},
   "outputs": [
    {
     "name": "stdout",
     "output_type": "stream",
     "text": [
      "      sale_date  total_sales\n",
      "0    2022-01-01        23.76\n",
      "1    2022-01-02        23.76\n",
      "2    2022-01-03        23.76\n",
      "3    2022-01-04        16.83\n",
      "4    2022-01-05        12.87\n",
      "..          ...          ...\n",
      "341  2022-12-27         7.92\n",
      "342  2022-12-28         8.91\n",
      "343  2022-12-29        18.81\n",
      "344  2022-12-30         6.93\n",
      "345  2022-12-31        15.84\n",
      "\n",
      "[346 rows x 2 columns]\n"
     ]
    }
   ],
   "source": [
    "# Print the DataFrame\n",
    "print(df)"
   ]
  },
  {
   "cell_type": "code",
   "execution_count": 10,
   "metadata": {},
   "outputs": [
    {
     "name": "stdout",
     "output_type": "stream",
     "text": [
      "<class 'pandas.core.frame.DataFrame'>\n",
      "RangeIndex: 346 entries, 0 to 345\n",
      "Data columns (total 2 columns):\n",
      " #   Column       Non-Null Count  Dtype  \n",
      "---  ------       --------------  -----  \n",
      " 0   sale_date    346 non-null    object \n",
      " 1   total_sales  346 non-null    float64\n",
      "dtypes: float64(1), object(1)\n",
      "memory usage: 5.5+ KB\n"
     ]
    }
   ],
   "source": [
    "# check the data types\n",
    "df.info()"
   ]
  },
  {
   "cell_type": "code",
   "execution_count": 11,
   "metadata": {},
   "outputs": [
    {
     "name": "stdout",
     "output_type": "stream",
     "text": [
      "<class 'pandas.core.frame.DataFrame'>\n",
      "RangeIndex: 346 entries, 0 to 345\n",
      "Data columns (total 2 columns):\n",
      " #   Column       Non-Null Count  Dtype         \n",
      "---  ------       --------------  -----         \n",
      " 0   sale_date    346 non-null    datetime64[ns]\n",
      " 1   total_sales  346 non-null    float64       \n",
      "dtypes: datetime64[ns](1), float64(1)\n",
      "memory usage: 5.5 KB\n"
     ]
    }
   ],
   "source": [
    "# Convert the sale_date column to a datetime object\n",
    "df[\"sale_date\"] = pd.to_datetime(df[\"sale_date\"])\n",
    "df.info()"
   ]
  },
  {
   "cell_type": "code",
   "execution_count": 12,
   "metadata": {},
   "outputs": [
    {
     "data": {
      "text/html": [
       "<div>\n",
       "<style scoped>\n",
       "    .dataframe tbody tr th:only-of-type {\n",
       "        vertical-align: middle;\n",
       "    }\n",
       "\n",
       "    .dataframe tbody tr th {\n",
       "        vertical-align: top;\n",
       "    }\n",
       "\n",
       "    .dataframe thead th {\n",
       "        text-align: right;\n",
       "    }\n",
       "</style>\n",
       "<table border=\"1\" class=\"dataframe\">\n",
       "  <thead>\n",
       "    <tr style=\"text-align: right;\">\n",
       "      <th></th>\n",
       "      <th>total_sales</th>\n",
       "    </tr>\n",
       "    <tr>\n",
       "      <th>sale_date</th>\n",
       "      <th></th>\n",
       "    </tr>\n",
       "  </thead>\n",
       "  <tbody>\n",
       "    <tr>\n",
       "      <th>2022-01-01</th>\n",
       "      <td>23.76</td>\n",
       "    </tr>\n",
       "    <tr>\n",
       "      <th>2022-01-02</th>\n",
       "      <td>23.76</td>\n",
       "    </tr>\n",
       "    <tr>\n",
       "      <th>2022-01-03</th>\n",
       "      <td>23.76</td>\n",
       "    </tr>\n",
       "  </tbody>\n",
       "</table>\n",
       "</div>"
      ],
      "text/plain": [
       "            total_sales\n",
       "sale_date              \n",
       "2022-01-01        23.76\n",
       "2022-01-02        23.76\n",
       "2022-01-03        23.76"
      ]
     },
     "execution_count": 12,
     "metadata": {},
     "output_type": "execute_result"
    }
   ],
   "source": [
    "# Set the sale_date column as the index\n",
    "df = df.set_index(\"sale_date\")\n",
    "df.head(3)"
   ]
  },
  {
   "cell_type": "code",
   "execution_count": 13,
   "metadata": {},
   "outputs": [
    {
     "data": {
      "text/html": [
       "<div>\n",
       "<style scoped>\n",
       "    .dataframe tbody tr th:only-of-type {\n",
       "        vertical-align: middle;\n",
       "    }\n",
       "\n",
       "    .dataframe tbody tr th {\n",
       "        vertical-align: top;\n",
       "    }\n",
       "\n",
       "    .dataframe thead th {\n",
       "        text-align: right;\n",
       "    }\n",
       "</style>\n",
       "<table border=\"1\" class=\"dataframe\">\n",
       "  <thead>\n",
       "    <tr style=\"text-align: right;\">\n",
       "      <th></th>\n",
       "      <th>total_sales</th>\n",
       "    </tr>\n",
       "    <tr>\n",
       "      <th>sale_date</th>\n",
       "      <th></th>\n",
       "    </tr>\n",
       "  </thead>\n",
       "  <tbody>\n",
       "    <tr>\n",
       "      <th>2022-01-31</th>\n",
       "      <td>436.59</td>\n",
       "    </tr>\n",
       "    <tr>\n",
       "      <th>2022-02-28</th>\n",
       "      <td>341.55</td>\n",
       "    </tr>\n",
       "    <tr>\n",
       "      <th>2022-03-31</th>\n",
       "      <td>480.15</td>\n",
       "    </tr>\n",
       "    <tr>\n",
       "      <th>2022-04-30</th>\n",
       "      <td>445.50</td>\n",
       "    </tr>\n",
       "    <tr>\n",
       "      <th>2022-05-31</th>\n",
       "      <td>417.78</td>\n",
       "    </tr>\n",
       "    <tr>\n",
       "      <th>2022-06-30</th>\n",
       "      <td>476.19</td>\n",
       "    </tr>\n",
       "    <tr>\n",
       "      <th>2022-07-31</th>\n",
       "      <td>423.72</td>\n",
       "    </tr>\n",
       "    <tr>\n",
       "      <th>2022-08-31</th>\n",
       "      <td>504.90</td>\n",
       "    </tr>\n",
       "    <tr>\n",
       "      <th>2022-09-30</th>\n",
       "      <td>466.29</td>\n",
       "    </tr>\n",
       "    <tr>\n",
       "      <th>2022-10-31</th>\n",
       "      <td>478.17</td>\n",
       "    </tr>\n",
       "    <tr>\n",
       "      <th>2022-11-30</th>\n",
       "      <td>435.60</td>\n",
       "    </tr>\n",
       "    <tr>\n",
       "      <th>2022-12-31</th>\n",
       "      <td>420.75</td>\n",
       "    </tr>\n",
       "  </tbody>\n",
       "</table>\n",
       "</div>"
      ],
      "text/plain": [
       "            total_sales\n",
       "sale_date              \n",
       "2022-01-31       436.59\n",
       "2022-02-28       341.55\n",
       "2022-03-31       480.15\n",
       "2022-04-30       445.50\n",
       "2022-05-31       417.78\n",
       "2022-06-30       476.19\n",
       "2022-07-31       423.72\n",
       "2022-08-31       504.90\n",
       "2022-09-30       466.29\n",
       "2022-10-31       478.17\n",
       "2022-11-30       435.60\n",
       "2022-12-31       420.75"
      ]
     },
     "execution_count": 13,
     "metadata": {},
     "output_type": "execute_result"
    }
   ],
   "source": [
    "# Resample the data to a monthly frequency and compute the sum\n",
    "df_monthly = df.resample(\"M\").sum()\n",
    "df_monthly"
   ]
  },
  {
   "cell_type": "code",
   "execution_count": 14,
   "metadata": {},
   "outputs": [
    {
     "data": {
      "text/html": [
       "<div>\n",
       "<style scoped>\n",
       "    .dataframe tbody tr th:only-of-type {\n",
       "        vertical-align: middle;\n",
       "    }\n",
       "\n",
       "    .dataframe tbody tr th {\n",
       "        vertical-align: top;\n",
       "    }\n",
       "\n",
       "    .dataframe thead th {\n",
       "        text-align: right;\n",
       "    }\n",
       "</style>\n",
       "<table border=\"1\" class=\"dataframe\">\n",
       "  <thead>\n",
       "    <tr style=\"text-align: right;\">\n",
       "      <th></th>\n",
       "      <th>total_sales</th>\n",
       "      <th>month_name</th>\n",
       "    </tr>\n",
       "    <tr>\n",
       "      <th>sale_date</th>\n",
       "      <th></th>\n",
       "      <th></th>\n",
       "    </tr>\n",
       "  </thead>\n",
       "  <tbody>\n",
       "    <tr>\n",
       "      <th>2022-01-31</th>\n",
       "      <td>436.59</td>\n",
       "      <td>Jan</td>\n",
       "    </tr>\n",
       "    <tr>\n",
       "      <th>2022-02-28</th>\n",
       "      <td>341.55</td>\n",
       "      <td>Feb</td>\n",
       "    </tr>\n",
       "    <tr>\n",
       "      <th>2022-03-31</th>\n",
       "      <td>480.15</td>\n",
       "      <td>Mar</td>\n",
       "    </tr>\n",
       "    <tr>\n",
       "      <th>2022-04-30</th>\n",
       "      <td>445.50</td>\n",
       "      <td>Apr</td>\n",
       "    </tr>\n",
       "    <tr>\n",
       "      <th>2022-05-31</th>\n",
       "      <td>417.78</td>\n",
       "      <td>May</td>\n",
       "    </tr>\n",
       "    <tr>\n",
       "      <th>2022-06-30</th>\n",
       "      <td>476.19</td>\n",
       "      <td>Jun</td>\n",
       "    </tr>\n",
       "    <tr>\n",
       "      <th>2022-07-31</th>\n",
       "      <td>423.72</td>\n",
       "      <td>Jul</td>\n",
       "    </tr>\n",
       "    <tr>\n",
       "      <th>2022-08-31</th>\n",
       "      <td>504.90</td>\n",
       "      <td>Aug</td>\n",
       "    </tr>\n",
       "    <tr>\n",
       "      <th>2022-09-30</th>\n",
       "      <td>466.29</td>\n",
       "      <td>Sep</td>\n",
       "    </tr>\n",
       "    <tr>\n",
       "      <th>2022-10-31</th>\n",
       "      <td>478.17</td>\n",
       "      <td>Oct</td>\n",
       "    </tr>\n",
       "    <tr>\n",
       "      <th>2022-11-30</th>\n",
       "      <td>435.60</td>\n",
       "      <td>Nov</td>\n",
       "    </tr>\n",
       "    <tr>\n",
       "      <th>2022-12-31</th>\n",
       "      <td>420.75</td>\n",
       "      <td>Dec</td>\n",
       "    </tr>\n",
       "  </tbody>\n",
       "</table>\n",
       "</div>"
      ],
      "text/plain": [
       "            total_sales month_name\n",
       "sale_date                         \n",
       "2022-01-31       436.59        Jan\n",
       "2022-02-28       341.55        Feb\n",
       "2022-03-31       480.15        Mar\n",
       "2022-04-30       445.50        Apr\n",
       "2022-05-31       417.78        May\n",
       "2022-06-30       476.19        Jun\n",
       "2022-07-31       423.72        Jul\n",
       "2022-08-31       504.90        Aug\n",
       "2022-09-30       466.29        Sep\n",
       "2022-10-31       478.17        Oct\n",
       "2022-11-30       435.60        Nov\n",
       "2022-12-31       420.75        Dec"
      ]
     },
     "execution_count": 14,
     "metadata": {},
     "output_type": "execute_result"
    }
   ],
   "source": [
    "# Map the month number to short month name\n",
    "df_monthly['month_name'] = df_monthly.index.strftime('%b')\n",
    "df_monthly"
   ]
  },
  {
   "cell_type": "code",
   "execution_count": 15,
   "metadata": {},
   "outputs": [
    {
     "data": {
      "application/vnd.plotly.v1+json": {
       "config": {
        "plotlyServerURL": "https://plot.ly"
       },
       "data": [
        {
         "alignmentgroup": "True",
         "hovertemplate": "month_name=%{x}<br>total_sales=%{text}<extra></extra>",
         "legendgroup": "",
         "marker": {
          "color": "#1F77B4",
          "pattern": {
           "shape": ""
          }
         },
         "name": "",
         "offsetgroup": "",
         "orientation": "v",
         "showlegend": false,
         "text": [
          436.59,
          341.55,
          480.15,
          445.5,
          417.78,
          476.19,
          423.71999999999997,
          504.9,
          466.29,
          478.16999999999996,
          435.59999999999997,
          420.75
         ],
         "textposition": "auto",
         "type": "bar",
         "x": [
          "Jan",
          "Feb",
          "Mar",
          "Apr",
          "May",
          "Jun",
          "Jul",
          "Aug",
          "Sep",
          "Oct",
          "Nov",
          "Dec"
         ],
         "xaxis": "x",
         "y": [
          436.59,
          341.55,
          480.15,
          445.5,
          417.78,
          476.19,
          423.71999999999997,
          504.9,
          466.29,
          478.16999999999996,
          435.59999999999997,
          420.75
         ],
         "yaxis": "y"
        }
       ],
       "layout": {
        "barmode": "relative",
        "legend": {
         "tracegroupgap": 0
        },
        "margin": {
         "t": 60
        },
        "template": {
         "data": {
          "pie": [
           {
            "automargin": true,
            "type": "pie"
           }
          ],
          "scatter": [
           {
            "line": {
             "width": 3
            },
            "marker": {
             "size": 9
            },
            "type": "scatter"
           }
          ],
          "scatter3d": [
           {
            "line": {
             "width": 3
            },
            "marker": {
             "size": 9
            },
            "type": "scatter3d"
           }
          ],
          "scattergeo": [
           {
            "line": {
             "width": 3
            },
            "marker": {
             "size": 9
            },
            "type": "scattergeo"
           }
          ],
          "scattergl": [
           {
            "line": {
             "width": 3
            },
            "marker": {
             "size": 9
            },
            "type": "scattergl"
           }
          ],
          "scatterpolar": [
           {
            "line": {
             "width": 3
            },
            "marker": {
             "size": 9
            },
            "type": "scatterpolar"
           }
          ],
          "scatterpolargl": [
           {
            "line": {
             "width": 3
            },
            "marker": {
             "size": 9
            },
            "type": "scatterpolargl"
           }
          ],
          "scatterternary": [
           {
            "line": {
             "width": 3
            },
            "marker": {
             "size": 9
            },
            "type": "scatterternary"
           }
          ],
          "table": [
           {
            "cells": {
             "height": 30
            },
            "header": {
             "height": 36
            },
            "type": "table"
           }
          ]
         },
         "layout": {
          "font": {
           "size": 18
          },
          "xaxis": {
           "title": {
            "standoff": 15
           }
          },
          "yaxis": {
           "title": {
            "standoff": 15
           }
          }
         }
        },
        "title": {
         "text": "Total Sales by Month"
        },
        "xaxis": {
         "anchor": "y",
         "domain": [
          0,
          1
         ],
         "title": {
          "text": "Month"
         }
        },
        "yaxis": {
         "anchor": "x",
         "domain": [
          0,
          1
         ],
         "tickprefix": "$",
         "title": {
          "text": "Total Sales ($)"
         }
        }
       }
      }
     },
     "metadata": {},
     "output_type": "display_data"
    }
   ],
   "source": [
    "# Create the Plotly figure with text parameter\n",
    "fig = px.bar(df_monthly,\n",
    "             x='month_name',\n",
    "             y='total_sales',\n",
    "             template=plotly_template,\n",
    "             text='total_sales')\n",
    "\n",
    "# Set the layout\n",
    "fig.update_layout(\n",
    "    title=\"Total Sales by Month\",\n",
    "    xaxis_title=\"Month\",\n",
    "    yaxis_title=\"Total Sales ($)\",\n",
    "    yaxis_tickprefix=\"$\",\n",
    ")\n",
    "\n",
    "# Show the figure\n",
    "fig.show()\n",
    "\n",
    "# Save the figure as a PNG file\n",
    "fig.write_image(output_dir / \"total_sales_by_month.png\",\n",
    "                width=1200,\n",
    "                height=400,\n",
    "                scale=4)"
   ]
  },
  {
   "attachments": {},
   "cell_type": "markdown",
   "metadata": {},
   "source": [
    "# Total Sales by Product"
   ]
  },
  {
   "cell_type": "code",
   "execution_count": 21,
   "metadata": {},
   "outputs": [],
   "source": [
    "# Execute the query and load results into a Panda DataFrame\n",
    "query = '''\n",
    "SELECT p.product_name, SUM(s.total_price) AS total_sales\n",
    "FROM sales s\n",
    "JOIN products p ON s.product_id = p.product_id\n",
    "GROUP BY p.product_name\n",
    "'''\n",
    "\n",
    "df = pd.read_sql_query(query, conn)"
   ]
  },
  {
   "cell_type": "code",
   "execution_count": 22,
   "metadata": {},
   "outputs": [
    {
     "data": {
      "text/html": [
       "<div>\n",
       "<style scoped>\n",
       "    .dataframe tbody tr th:only-of-type {\n",
       "        vertical-align: middle;\n",
       "    }\n",
       "\n",
       "    .dataframe tbody tr th {\n",
       "        vertical-align: top;\n",
       "    }\n",
       "\n",
       "    .dataframe thead th {\n",
       "        text-align: right;\n",
       "    }\n",
       "</style>\n",
       "<table border=\"1\" class=\"dataframe\">\n",
       "  <thead>\n",
       "    <tr style=\"text-align: right;\">\n",
       "      <th></th>\n",
       "      <th>product_name</th>\n",
       "      <th>total_sales</th>\n",
       "    </tr>\n",
       "  </thead>\n",
       "  <tbody>\n",
       "    <tr>\n",
       "      <th>0</th>\n",
       "      <td>Apple</td>\n",
       "      <td>79.20</td>\n",
       "    </tr>\n",
       "    <tr>\n",
       "      <th>1</th>\n",
       "      <td>Asparagus</td>\n",
       "      <td>71.28</td>\n",
       "    </tr>\n",
       "    <tr>\n",
       "      <th>2</th>\n",
       "      <td>Avocado</td>\n",
       "      <td>139.59</td>\n",
       "    </tr>\n",
       "    <tr>\n",
       "      <th>3</th>\n",
       "      <td>Banana</td>\n",
       "      <td>106.92</td>\n",
       "    </tr>\n",
       "    <tr>\n",
       "      <th>4</th>\n",
       "      <td>Beans</td>\n",
       "      <td>63.36</td>\n",
       "    </tr>\n",
       "    <tr>\n",
       "      <th>5</th>\n",
       "      <td>Beet</td>\n",
       "      <td>171.27</td>\n",
       "    </tr>\n",
       "    <tr>\n",
       "      <th>6</th>\n",
       "      <td>Blackberry</td>\n",
       "      <td>112.86</td>\n",
       "    </tr>\n",
       "    <tr>\n",
       "      <th>7</th>\n",
       "      <td>Blueberry</td>\n",
       "      <td>82.17</td>\n",
       "    </tr>\n",
       "    <tr>\n",
       "      <th>8</th>\n",
       "      <td>Broccoli</td>\n",
       "      <td>88.11</td>\n",
       "    </tr>\n",
       "    <tr>\n",
       "      <th>9</th>\n",
       "      <td>Brussel Sprout</td>\n",
       "      <td>131.67</td>\n",
       "    </tr>\n",
       "    <tr>\n",
       "      <th>10</th>\n",
       "      <td>Cabbage</td>\n",
       "      <td>55.44</td>\n",
       "    </tr>\n",
       "    <tr>\n",
       "      <th>11</th>\n",
       "      <td>Cake</td>\n",
       "      <td>99.99</td>\n",
       "    </tr>\n",
       "    <tr>\n",
       "      <th>12</th>\n",
       "      <td>Candy</td>\n",
       "      <td>67.32</td>\n",
       "    </tr>\n",
       "    <tr>\n",
       "      <th>13</th>\n",
       "      <td>Cantaloupe</td>\n",
       "      <td>74.25</td>\n",
       "    </tr>\n",
       "    <tr>\n",
       "      <th>14</th>\n",
       "      <td>Carrot</td>\n",
       "      <td>112.86</td>\n",
       "    </tr>\n",
       "    <tr>\n",
       "      <th>15</th>\n",
       "      <td>Cauliflower</td>\n",
       "      <td>101.97</td>\n",
       "    </tr>\n",
       "    <tr>\n",
       "      <th>16</th>\n",
       "      <td>Celery</td>\n",
       "      <td>107.91</td>\n",
       "    </tr>\n",
       "    <tr>\n",
       "      <th>17</th>\n",
       "      <td>Cherry</td>\n",
       "      <td>103.95</td>\n",
       "    </tr>\n",
       "    <tr>\n",
       "      <th>18</th>\n",
       "      <td>Chocolate</td>\n",
       "      <td>110.88</td>\n",
       "    </tr>\n",
       "    <tr>\n",
       "      <th>19</th>\n",
       "      <td>Coconut</td>\n",
       "      <td>109.89</td>\n",
       "    </tr>\n",
       "    <tr>\n",
       "      <th>20</th>\n",
       "      <td>Corn</td>\n",
       "      <td>80.19</td>\n",
       "    </tr>\n",
       "    <tr>\n",
       "      <th>21</th>\n",
       "      <td>Cranberry</td>\n",
       "      <td>56.43</td>\n",
       "    </tr>\n",
       "    <tr>\n",
       "      <th>22</th>\n",
       "      <td>Cucumber</td>\n",
       "      <td>141.57</td>\n",
       "    </tr>\n",
       "    <tr>\n",
       "      <th>23</th>\n",
       "      <td>Eggplant</td>\n",
       "      <td>79.20</td>\n",
       "    </tr>\n",
       "    <tr>\n",
       "      <th>24</th>\n",
       "      <td>Garlic</td>\n",
       "      <td>88.11</td>\n",
       "    </tr>\n",
       "    <tr>\n",
       "      <th>25</th>\n",
       "      <td>Grapes</td>\n",
       "      <td>101.97</td>\n",
       "    </tr>\n",
       "    <tr>\n",
       "      <th>26</th>\n",
       "      <td>Honeydew</td>\n",
       "      <td>129.69</td>\n",
       "    </tr>\n",
       "    <tr>\n",
       "      <th>27</th>\n",
       "      <td>Ice Cream</td>\n",
       "      <td>119.79</td>\n",
       "    </tr>\n",
       "    <tr>\n",
       "      <th>28</th>\n",
       "      <td>Kiwi</td>\n",
       "      <td>120.78</td>\n",
       "    </tr>\n",
       "    <tr>\n",
       "      <th>29</th>\n",
       "      <td>Lemon</td>\n",
       "      <td>82.17</td>\n",
       "    </tr>\n",
       "    <tr>\n",
       "      <th>30</th>\n",
       "      <td>Lettuce</td>\n",
       "      <td>94.05</td>\n",
       "    </tr>\n",
       "    <tr>\n",
       "      <th>31</th>\n",
       "      <td>Lime</td>\n",
       "      <td>105.93</td>\n",
       "    </tr>\n",
       "    <tr>\n",
       "      <th>32</th>\n",
       "      <td>Mango</td>\n",
       "      <td>91.08</td>\n",
       "    </tr>\n",
       "    <tr>\n",
       "      <th>33</th>\n",
       "      <td>Mushroom</td>\n",
       "      <td>70.29</td>\n",
       "    </tr>\n",
       "    <tr>\n",
       "      <th>34</th>\n",
       "      <td>Onion</td>\n",
       "      <td>106.92</td>\n",
       "    </tr>\n",
       "    <tr>\n",
       "      <th>35</th>\n",
       "      <td>Orange</td>\n",
       "      <td>45.54</td>\n",
       "    </tr>\n",
       "    <tr>\n",
       "      <th>36</th>\n",
       "      <td>Peach</td>\n",
       "      <td>88.11</td>\n",
       "    </tr>\n",
       "    <tr>\n",
       "      <th>37</th>\n",
       "      <td>Pear</td>\n",
       "      <td>155.43</td>\n",
       "    </tr>\n",
       "    <tr>\n",
       "      <th>38</th>\n",
       "      <td>Peas</td>\n",
       "      <td>66.33</td>\n",
       "    </tr>\n",
       "    <tr>\n",
       "      <th>39</th>\n",
       "      <td>Pineapple</td>\n",
       "      <td>75.24</td>\n",
       "    </tr>\n",
       "    <tr>\n",
       "      <th>40</th>\n",
       "      <td>Pomegranate</td>\n",
       "      <td>176.22</td>\n",
       "    </tr>\n",
       "    <tr>\n",
       "      <th>41</th>\n",
       "      <td>Potato</td>\n",
       "      <td>124.74</td>\n",
       "    </tr>\n",
       "    <tr>\n",
       "      <th>42</th>\n",
       "      <td>Pumpkin</td>\n",
       "      <td>115.83</td>\n",
       "    </tr>\n",
       "    <tr>\n",
       "      <th>43</th>\n",
       "      <td>Radish</td>\n",
       "      <td>85.14</td>\n",
       "    </tr>\n",
       "    <tr>\n",
       "      <th>44</th>\n",
       "      <td>Raisin</td>\n",
       "      <td>69.30</td>\n",
       "    </tr>\n",
       "    <tr>\n",
       "      <th>45</th>\n",
       "      <td>Raspberry</td>\n",
       "      <td>84.15</td>\n",
       "    </tr>\n",
       "    <tr>\n",
       "      <th>46</th>\n",
       "      <td>Spinach</td>\n",
       "      <td>99.00</td>\n",
       "    </tr>\n",
       "    <tr>\n",
       "      <th>47</th>\n",
       "      <td>Squash</td>\n",
       "      <td>142.56</td>\n",
       "    </tr>\n",
       "    <tr>\n",
       "      <th>48</th>\n",
       "      <td>Strawberry</td>\n",
       "      <td>113.85</td>\n",
       "    </tr>\n",
       "    <tr>\n",
       "      <th>49</th>\n",
       "      <td>Sweet Potato</td>\n",
       "      <td>100.98</td>\n",
       "    </tr>\n",
       "    <tr>\n",
       "      <th>50</th>\n",
       "      <td>Tomato</td>\n",
       "      <td>91.08</td>\n",
       "    </tr>\n",
       "    <tr>\n",
       "      <th>51</th>\n",
       "      <td>Turnip</td>\n",
       "      <td>96.03</td>\n",
       "    </tr>\n",
       "    <tr>\n",
       "      <th>52</th>\n",
       "      <td>Watermelon</td>\n",
       "      <td>84.15</td>\n",
       "    </tr>\n",
       "    <tr>\n",
       "      <th>53</th>\n",
       "      <td>Zucchini</td>\n",
       "      <td>54.45</td>\n",
       "    </tr>\n",
       "  </tbody>\n",
       "</table>\n",
       "</div>"
      ],
      "text/plain": [
       "      product_name  total_sales\n",
       "0            Apple        79.20\n",
       "1        Asparagus        71.28\n",
       "2          Avocado       139.59\n",
       "3           Banana       106.92\n",
       "4            Beans        63.36\n",
       "5             Beet       171.27\n",
       "6       Blackberry       112.86\n",
       "7        Blueberry        82.17\n",
       "8         Broccoli        88.11\n",
       "9   Brussel Sprout       131.67\n",
       "10         Cabbage        55.44\n",
       "11            Cake        99.99\n",
       "12           Candy        67.32\n",
       "13      Cantaloupe        74.25\n",
       "14          Carrot       112.86\n",
       "15     Cauliflower       101.97\n",
       "16          Celery       107.91\n",
       "17          Cherry       103.95\n",
       "18       Chocolate       110.88\n",
       "19         Coconut       109.89\n",
       "20            Corn        80.19\n",
       "21       Cranberry        56.43\n",
       "22        Cucumber       141.57\n",
       "23        Eggplant        79.20\n",
       "24          Garlic        88.11\n",
       "25          Grapes       101.97\n",
       "26        Honeydew       129.69\n",
       "27       Ice Cream       119.79\n",
       "28            Kiwi       120.78\n",
       "29           Lemon        82.17\n",
       "30         Lettuce        94.05\n",
       "31            Lime       105.93\n",
       "32           Mango        91.08\n",
       "33        Mushroom        70.29\n",
       "34           Onion       106.92\n",
       "35          Orange        45.54\n",
       "36           Peach        88.11\n",
       "37            Pear       155.43\n",
       "38            Peas        66.33\n",
       "39       Pineapple        75.24\n",
       "40     Pomegranate       176.22\n",
       "41          Potato       124.74\n",
       "42         Pumpkin       115.83\n",
       "43          Radish        85.14\n",
       "44          Raisin        69.30\n",
       "45       Raspberry        84.15\n",
       "46         Spinach        99.00\n",
       "47          Squash       142.56\n",
       "48      Strawberry       113.85\n",
       "49    Sweet Potato       100.98\n",
       "50          Tomato        91.08\n",
       "51          Turnip        96.03\n",
       "52      Watermelon        84.15\n",
       "53        Zucchini        54.45"
      ]
     },
     "execution_count": 22,
     "metadata": {},
     "output_type": "execute_result"
    }
   ],
   "source": [
    "df"
   ]
  },
  {
   "cell_type": "code",
   "execution_count": 25,
   "metadata": {},
   "outputs": [
    {
     "data": {
      "application/vnd.plotly.v1+json": {
       "config": {
        "plotlyServerURL": "https://plot.ly"
       },
       "data": [
        {
         "alignmentgroup": "True",
         "hovertemplate": "product_name=%{x}<br>total_sales=%{text}<extra></extra>",
         "legendgroup": "",
         "marker": {
          "color": "#1F77B4",
          "pattern": {
           "shape": ""
          }
         },
         "name": "",
         "offsetgroup": "",
         "orientation": "v",
         "showlegend": false,
         "text": [
          79.2,
          71.27999999999999,
          139.58999999999997,
          106.91999999999999,
          63.36000000000001,
          171.27,
          112.86000000000001,
          82.16999999999999,
          88.10999999999999,
          131.67000000000002,
          55.44,
          99.99,
          67.32,
          74.25,
          112.86000000000001,
          101.97000000000001,
          107.91,
          103.95,
          110.87999999999998,
          109.89,
          80.19000000000001,
          56.43000000000001,
          141.57000000000002,
          79.20000000000002,
          88.11000000000001,
          101.96999999999998,
          129.69000000000003,
          119.78999999999999,
          120.77999999999997,
          82.16999999999999,
          94.05,
          105.92999999999996,
          91.07999999999998,
          70.29,
          106.91999999999999,
          45.54,
          88.10999999999999,
          155.42999999999995,
          66.32999999999998,
          75.24,
          176.21999999999994,
          124.74,
          115.82999999999998,
          85.13999999999999,
          69.3,
          84.15,
          99,
          142.55999999999997,
          113.84999999999998,
          100.97999999999998,
          91.08000000000001,
          96.03,
          84.14999999999998,
          54.449999999999996
         ],
         "textposition": "auto",
         "type": "bar",
         "x": [
          "Apple",
          "Asparagus",
          "Avocado",
          "Banana",
          "Beans",
          "Beet",
          "Blackberry",
          "Blueberry",
          "Broccoli",
          "Brussel Sprout",
          "Cabbage",
          "Cake",
          "Candy",
          "Cantaloupe",
          "Carrot",
          "Cauliflower",
          "Celery",
          "Cherry",
          "Chocolate",
          "Coconut",
          "Corn",
          "Cranberry",
          "Cucumber",
          "Eggplant",
          "Garlic",
          "Grapes",
          "Honeydew",
          "Ice Cream",
          "Kiwi",
          "Lemon",
          "Lettuce",
          "Lime",
          "Mango",
          "Mushroom",
          "Onion",
          "Orange",
          "Peach",
          "Pear",
          "Peas",
          "Pineapple",
          "Pomegranate",
          "Potato",
          "Pumpkin",
          "Radish",
          "Raisin",
          "Raspberry",
          "Spinach",
          "Squash",
          "Strawberry",
          "Sweet Potato",
          "Tomato",
          "Turnip",
          "Watermelon",
          "Zucchini"
         ],
         "xaxis": "x",
         "y": [
          79.2,
          71.27999999999999,
          139.58999999999997,
          106.91999999999999,
          63.36000000000001,
          171.27,
          112.86000000000001,
          82.16999999999999,
          88.10999999999999,
          131.67000000000002,
          55.44,
          99.99,
          67.32,
          74.25,
          112.86000000000001,
          101.97000000000001,
          107.91,
          103.95,
          110.87999999999998,
          109.89,
          80.19000000000001,
          56.43000000000001,
          141.57000000000002,
          79.20000000000002,
          88.11000000000001,
          101.96999999999998,
          129.69000000000003,
          119.78999999999999,
          120.77999999999997,
          82.16999999999999,
          94.05,
          105.92999999999996,
          91.07999999999998,
          70.29,
          106.91999999999999,
          45.54,
          88.10999999999999,
          155.42999999999995,
          66.32999999999998,
          75.24,
          176.21999999999994,
          124.74,
          115.82999999999998,
          85.13999999999999,
          69.3,
          84.15,
          99,
          142.55999999999997,
          113.84999999999998,
          100.97999999999998,
          91.08000000000001,
          96.03,
          84.14999999999998,
          54.449999999999996
         ],
         "yaxis": "y"
        }
       ],
       "layout": {
        "barmode": "relative",
        "legend": {
         "tracegroupgap": 0
        },
        "margin": {
         "t": 60
        },
        "template": {
         "data": {
          "pie": [
           {
            "automargin": true,
            "type": "pie"
           }
          ],
          "scatter": [
           {
            "line": {
             "width": 3
            },
            "marker": {
             "size": 9
            },
            "type": "scatter"
           }
          ],
          "scatter3d": [
           {
            "line": {
             "width": 3
            },
            "marker": {
             "size": 9
            },
            "type": "scatter3d"
           }
          ],
          "scattergeo": [
           {
            "line": {
             "width": 3
            },
            "marker": {
             "size": 9
            },
            "type": "scattergeo"
           }
          ],
          "scattergl": [
           {
            "line": {
             "width": 3
            },
            "marker": {
             "size": 9
            },
            "type": "scattergl"
           }
          ],
          "scatterpolar": [
           {
            "line": {
             "width": 3
            },
            "marker": {
             "size": 9
            },
            "type": "scatterpolar"
           }
          ],
          "scatterpolargl": [
           {
            "line": {
             "width": 3
            },
            "marker": {
             "size": 9
            },
            "type": "scatterpolargl"
           }
          ],
          "scatterternary": [
           {
            "line": {
             "width": 3
            },
            "marker": {
             "size": 9
            },
            "type": "scatterternary"
           }
          ],
          "table": [
           {
            "cells": {
             "height": 30
            },
            "header": {
             "height": 36
            },
            "type": "table"
           }
          ]
         },
         "layout": {
          "font": {
           "size": 18
          },
          "xaxis": {
           "title": {
            "standoff": 15
           }
          },
          "yaxis": {
           "title": {
            "standoff": 15
           }
          }
         }
        },
        "title": {
         "text": "Total Sales by Product"
        },
        "xaxis": {
         "anchor": "y",
         "domain": [
          0,
          1
         ],
         "title": {
          "text": "Product"
         }
        },
        "yaxis": {
         "anchor": "x",
         "domain": [
          0,
          1
         ],
         "tickprefix": "$",
         "title": {
          "text": "Total Sales ($)"
         }
        }
       }
      }
     },
     "metadata": {},
     "output_type": "display_data"
    }
   ],
   "source": [
    "# Create the Plotly figure with text parameter\n",
    "fig = px.bar(df,\n",
    "             x='product_name',\n",
    "             y='total_sales',\n",
    "             template=plotly_template,\n",
    "             text='total_sales')\n",
    "\n",
    "# Set the layout\n",
    "fig.update_layout(\n",
    "    title=\"Total Sales by Product\",\n",
    "    xaxis_title=\"Product\",\n",
    "    yaxis_title=\"Total Sales ($)\",\n",
    "    yaxis_tickprefix=\"$\",\n",
    ")\n",
    "\n",
    "# Show the figure\n",
    "fig.show()\n",
    "\n",
    "# Save the figure as a PNG file\n",
    "fig.write_image(output_dir / \"total_sales_by_product.png\",\n",
    "                width=1200,\n",
    "                height=400,\n",
    "                scale=4)\n",
    "\n",
    "                "
   ]
  },
  {
   "attachments": {},
   "cell_type": "markdown",
   "metadata": {},
   "source": [
    "# Top Customer by Sales"
   ]
  },
  {
   "cell_type": "markdown",
   "metadata": {},
   "source": []
  },
  {
   "cell_type": "code",
   "execution_count": 26,
   "metadata": {},
   "outputs": [],
   "source": [
    "# Execute the query and load results into a Panda DataFrame\n",
    "query = ''' \n",
    "SELECT c.first_name || ' ' || c.last_name as customer_name, SUM(s.total_price) as total_sales\n",
    "FROM sales s\n",
    "JOIN customers c ON s.customer_id = c.customer_id\n",
    "GROUP BY customer_name\n",
    "ORDER BY total_sales DESC\n",
    "LIMIT 10\n",
    "''' \n",
    "\n",
    "df = pd.read_sql_query(query, conn)"
   ]
  },
  {
   "cell_type": "code",
   "execution_count": 27,
   "metadata": {},
   "outputs": [
    {
     "data": {
      "text/html": [
       "<div>\n",
       "<style scoped>\n",
       "    .dataframe tbody tr th:only-of-type {\n",
       "        vertical-align: middle;\n",
       "    }\n",
       "\n",
       "    .dataframe tbody tr th {\n",
       "        vertical-align: top;\n",
       "    }\n",
       "\n",
       "    .dataframe thead th {\n",
       "        text-align: right;\n",
       "    }\n",
       "</style>\n",
       "<table border=\"1\" class=\"dataframe\">\n",
       "  <thead>\n",
       "    <tr style=\"text-align: right;\">\n",
       "      <th></th>\n",
       "      <th>customer_name</th>\n",
       "      <th>total_sales</th>\n",
       "    </tr>\n",
       "  </thead>\n",
       "  <tbody>\n",
       "    <tr>\n",
       "      <th>0</th>\n",
       "      <td>Bob Smith</td>\n",
       "      <td>642.51</td>\n",
       "    </tr>\n",
       "    <tr>\n",
       "      <th>1</th>\n",
       "      <td>Jane Doe</td>\n",
       "      <td>629.64</td>\n",
       "    </tr>\n",
       "    <tr>\n",
       "      <th>2</th>\n",
       "      <td>Alice Jones</td>\n",
       "      <td>616.77</td>\n",
       "    </tr>\n",
       "    <tr>\n",
       "      <th>3</th>\n",
       "      <td>Frank Wilson</td>\n",
       "      <td>613.80</td>\n",
       "    </tr>\n",
       "    <tr>\n",
       "      <th>4</th>\n",
       "      <td>Emily Davis</td>\n",
       "      <td>516.78</td>\n",
       "    </tr>\n",
       "    <tr>\n",
       "      <th>5</th>\n",
       "      <td>David Brown</td>\n",
       "      <td>507.87</td>\n",
       "    </tr>\n",
       "    <tr>\n",
       "      <th>6</th>\n",
       "      <td>John Doe</td>\n",
       "      <td>493.02</td>\n",
       "    </tr>\n",
       "    <tr>\n",
       "      <th>7</th>\n",
       "      <td>Isabel Garcia</td>\n",
       "      <td>469.26</td>\n",
       "    </tr>\n",
       "    <tr>\n",
       "      <th>8</th>\n",
       "      <td>Grace Lee</td>\n",
       "      <td>431.64</td>\n",
       "    </tr>\n",
       "    <tr>\n",
       "      <th>9</th>\n",
       "      <td>Henry Chen</td>\n",
       "      <td>405.90</td>\n",
       "    </tr>\n",
       "  </tbody>\n",
       "</table>\n",
       "</div>"
      ],
      "text/plain": [
       "   customer_name  total_sales\n",
       "0      Bob Smith       642.51\n",
       "1       Jane Doe       629.64\n",
       "2    Alice Jones       616.77\n",
       "3   Frank Wilson       613.80\n",
       "4    Emily Davis       516.78\n",
       "5    David Brown       507.87\n",
       "6       John Doe       493.02\n",
       "7  Isabel Garcia       469.26\n",
       "8      Grace Lee       431.64\n",
       "9     Henry Chen       405.90"
      ]
     },
     "execution_count": 27,
     "metadata": {},
     "output_type": "execute_result"
    }
   ],
   "source": [
    "df "
   ]
  },
  {
   "cell_type": "code",
   "execution_count": 29,
   "metadata": {},
   "outputs": [
    {
     "data": {
      "application/vnd.plotly.v1+json": {
       "config": {
        "plotlyServerURL": "https://plot.ly"
       },
       "data": [
        {
         "alignmentgroup": "True",
         "hovertemplate": "customer_name=%{x}<br>total_sales=%{text}<extra></extra>",
         "legendgroup": "",
         "marker": {
          "color": "#1F77B4",
          "pattern": {
           "shape": ""
          }
         },
         "name": "",
         "offsetgroup": "",
         "orientation": "v",
         "showlegend": false,
         "text": [
          642.5100000000004,
          629.6400000000004,
          616.7700000000003,
          613.8000000000001,
          516.7800000000002,
          507.8700000000001,
          493.0200000000005,
          469.2600000000002,
          431.6400000000001,
          405.9000000000003
         ],
         "textposition": "auto",
         "type": "bar",
         "x": [
          "Bob Smith",
          "Jane Doe",
          "Alice Jones",
          "Frank Wilson",
          "Emily Davis",
          "David Brown",
          "John Doe",
          "Isabel Garcia",
          "Grace Lee",
          "Henry Chen"
         ],
         "xaxis": "x",
         "y": [
          642.5100000000004,
          629.6400000000004,
          616.7700000000003,
          613.8000000000001,
          516.7800000000002,
          507.8700000000001,
          493.0200000000005,
          469.2600000000002,
          431.6400000000001,
          405.9000000000003
         ],
         "yaxis": "y"
        }
       ],
       "layout": {
        "barmode": "relative",
        "legend": {
         "tracegroupgap": 0
        },
        "margin": {
         "t": 60
        },
        "template": {
         "data": {
          "pie": [
           {
            "automargin": true,
            "type": "pie"
           }
          ],
          "scatter": [
           {
            "line": {
             "width": 3
            },
            "marker": {
             "size": 9
            },
            "type": "scatter"
           }
          ],
          "scatter3d": [
           {
            "line": {
             "width": 3
            },
            "marker": {
             "size": 9
            },
            "type": "scatter3d"
           }
          ],
          "scattergeo": [
           {
            "line": {
             "width": 3
            },
            "marker": {
             "size": 9
            },
            "type": "scattergeo"
           }
          ],
          "scattergl": [
           {
            "line": {
             "width": 3
            },
            "marker": {
             "size": 9
            },
            "type": "scattergl"
           }
          ],
          "scatterpolar": [
           {
            "line": {
             "width": 3
            },
            "marker": {
             "size": 9
            },
            "type": "scatterpolar"
           }
          ],
          "scatterpolargl": [
           {
            "line": {
             "width": 3
            },
            "marker": {
             "size": 9
            },
            "type": "scatterpolargl"
           }
          ],
          "scatterternary": [
           {
            "line": {
             "width": 3
            },
            "marker": {
             "size": 9
            },
            "type": "scatterternary"
           }
          ],
          "table": [
           {
            "cells": {
             "height": 30
            },
            "header": {
             "height": 36
            },
            "type": "table"
           }
          ]
         },
         "layout": {
          "font": {
           "size": 18
          },
          "xaxis": {
           "title": {
            "standoff": 15
           }
          },
          "yaxis": {
           "title": {
            "standoff": 15
           }
          }
         }
        },
        "title": {
         "text": "Top 10 Customers by Total Sales"
        },
        "xaxis": {
         "anchor": "y",
         "domain": [
          0,
          1
         ],
         "title": {
          "text": "Customer"
         }
        },
        "yaxis": {
         "anchor": "x",
         "domain": [
          0,
          1
         ],
         "tickprefix": "$",
         "title": {
          "text": "Total Sales ($)"
         }
        }
       }
      }
     },
     "metadata": {},
     "output_type": "display_data"
    }
   ],
   "source": [
    "# Create the Plotly figure with text parameter\n",
    "fig = px.bar(df,\n",
    "             x='customer_name',\n",
    "             y='total_sales',\n",
    "             template=plotly_template,\n",
    "             text='total_sales')\n",
    "\n",
    "# Set the layout\n",
    "fig.update_layout(\n",
    "    title=\"Top 10 Customers by Total Sales\",\n",
    "    xaxis_title=\"Customer\",\n",
    "    yaxis_title=\"Total Sales ($)\",\n",
    "    yaxis_tickprefix=\"$\",\n",
    ")\n",
    "\n",
    "# Show the figure\n",
    "fig.show()\n",
    "\n",
    "# Save the figure as a PNG file\n",
    "fig.write_image(output_dir / \"top_10_customers_by_total_sales.png\",\n",
    "                width=1200,\n",
    "                height=400,\n",
    "                scale=4)\n",
    "\n"
   ]
  },
  {
   "attachments": {},
   "cell_type": "markdown",
   "metadata": {},
   "source": [
    "# Create PDF Report"
   ]
  },
  {
   "cell_type": "code",
   "execution_count": 34,
   "metadata": {},
   "outputs": [
    {
     "data": {
      "text/plain": [
       "''"
      ]
     },
     "execution_count": 34,
     "metadata": {},
     "output_type": "execute_result"
    }
   ],
   "source": [
    "# Define the font color as RGB values (dark gray)\n",
    "font_color = (64, 64, 64)\n",
    "\n",
    "# Find all PNG files in the output directory\n",
    "chart_filenames = [str(chart_path) for chart_path in output_dir.glob(\"*.png\")]\n",
    "\n",
    "# Create a PDF document and set the page size \n",
    "pdf = FPDF()\n",
    "pdf.add_page()\n",
    "pdf.set_font('Arial', 'B', 24)\n",
    "\n",
    "# Add the overall page title\n",
    "title = f\"Sales Report as of {date.today().strftime('%d/%m/%Y')}\"\n",
    "pdf.set_text_color(*font_color)\n",
    "pdf.cell(0, 20, title, align='Cl',ln= 1)\n",
    "\n",
    "# Add each chart to the PDF document\n",
    "for chart_filename in chart_filenames:\n",
    "    pdf.ln(10) # add padding at the top of the next chart\n",
    "    pdf.image(chart_filename, x=None, y=None, w=pdf.w - 20, h = 0)\n",
    "    \n",
    "    \n",
    "# Save the PDF document\n",
    "pdf.output(output_dir / \"sales_report.pdf\", \"F\")\n"
   ]
  },
  {
   "cell_type": "code",
   "execution_count": null,
   "metadata": {},
   "outputs": [],
   "source": []
  },
  {
   "attachments": {},
   "cell_type": "markdown",
   "metadata": {},
   "source": [
    "# Bonus - SQL vs. Pandas"
   ]
  },
  {
   "attachments": {},
   "cell_type": "markdown",
   "metadata": {},
   "source": [
    "## Customer Segment using SQL"
   ]
  },
  {
   "cell_type": "code",
   "execution_count": 38,
   "metadata": {},
   "outputs": [
    {
     "data": {
      "text/html": [
       "<div>\n",
       "<style scoped>\n",
       "    .dataframe tbody tr th:only-of-type {\n",
       "        vertical-align: middle;\n",
       "    }\n",
       "\n",
       "    .dataframe tbody tr th {\n",
       "        vertical-align: top;\n",
       "    }\n",
       "\n",
       "    .dataframe thead th {\n",
       "        text-align: right;\n",
       "    }\n",
       "</style>\n",
       "<table border=\"1\" class=\"dataframe\">\n",
       "  <thead>\n",
       "    <tr style=\"text-align: right;\">\n",
       "      <th></th>\n",
       "      <th>customer_id</th>\n",
       "      <th>customer_name</th>\n",
       "      <th>total_sales</th>\n",
       "      <th>customer_segment</th>\n",
       "    </tr>\n",
       "  </thead>\n",
       "  <tbody>\n",
       "    <tr>\n",
       "      <th>0</th>\n",
       "      <td>3</td>\n",
       "      <td>Bob Smith</td>\n",
       "      <td>642.51</td>\n",
       "      <td>High Value</td>\n",
       "    </tr>\n",
       "    <tr>\n",
       "      <th>1</th>\n",
       "      <td>2</td>\n",
       "      <td>Jane Doe</td>\n",
       "      <td>629.64</td>\n",
       "      <td>High Value</td>\n",
       "    </tr>\n",
       "    <tr>\n",
       "      <th>2</th>\n",
       "      <td>4</td>\n",
       "      <td>Alice Jones</td>\n",
       "      <td>616.77</td>\n",
       "      <td>High Value</td>\n",
       "    </tr>\n",
       "    <tr>\n",
       "      <th>3</th>\n",
       "      <td>7</td>\n",
       "      <td>Frank Wilson</td>\n",
       "      <td>613.80</td>\n",
       "      <td>High Value</td>\n",
       "    </tr>\n",
       "    <tr>\n",
       "      <th>4</th>\n",
       "      <td>6</td>\n",
       "      <td>Emily Davis</td>\n",
       "      <td>516.78</td>\n",
       "      <td>High Value</td>\n",
       "    </tr>\n",
       "    <tr>\n",
       "      <th>5</th>\n",
       "      <td>5</td>\n",
       "      <td>David Brown</td>\n",
       "      <td>507.87</td>\n",
       "      <td>High Value</td>\n",
       "    </tr>\n",
       "    <tr>\n",
       "      <th>6</th>\n",
       "      <td>1</td>\n",
       "      <td>John Doe</td>\n",
       "      <td>493.02</td>\n",
       "      <td>High Value</td>\n",
       "    </tr>\n",
       "    <tr>\n",
       "      <th>7</th>\n",
       "      <td>10</td>\n",
       "      <td>Isabel Garcia</td>\n",
       "      <td>469.26</td>\n",
       "      <td>High Value</td>\n",
       "    </tr>\n",
       "    <tr>\n",
       "      <th>8</th>\n",
       "      <td>8</td>\n",
       "      <td>Grace Lee</td>\n",
       "      <td>431.64</td>\n",
       "      <td>Medium Value</td>\n",
       "    </tr>\n",
       "    <tr>\n",
       "      <th>9</th>\n",
       "      <td>9</td>\n",
       "      <td>Henry Chen</td>\n",
       "      <td>405.90</td>\n",
       "      <td>Medium Value</td>\n",
       "    </tr>\n",
       "  </tbody>\n",
       "</table>\n",
       "</div>"
      ],
      "text/plain": [
       "   customer_id  customer_name  total_sales customer_segment\n",
       "0            3      Bob Smith       642.51       High Value\n",
       "1            2       Jane Doe       629.64       High Value\n",
       "2            4    Alice Jones       616.77       High Value\n",
       "3            7   Frank Wilson       613.80       High Value\n",
       "4            6    Emily Davis       516.78       High Value\n",
       "5            5    David Brown       507.87       High Value\n",
       "6            1       John Doe       493.02       High Value\n",
       "7           10  Isabel Garcia       469.26       High Value\n",
       "8            8      Grace Lee       431.64     Medium Value\n",
       "9            9     Henry Chen       405.90     Medium Value"
      ]
     },
     "execution_count": 38,
     "metadata": {},
     "output_type": "execute_result"
    }
   ],
   "source": [
    "# Execute the query and load results into a Panda DataFrame\n",
    "query =  ''' \n",
    "SELECT\n",
    "    customers.customer_id,\n",
    "    customers.first_name || ' ' || customers.last_name AS customer_name,\n",
    "    SUM(sales.total_price) AS total_sales,\n",
    "    CASE\n",
    "        WHEN SUM(sales.total_price) > 450 then 'High Value'\n",
    "        WHEN SUM(sales.total_price) > 200 THEN 'Medium Value'\n",
    "        ELSE 'Low Value'\n",
    "    END AS customer_segment\n",
    "FROM sales\n",
    "INNER JOIN customers ON sales.customer_id = customers.customer_id\n",
    "GROUP BY customers.customer_id\n",
    "ORDER BY total_sales DESC\n",
    "''' \n",
    "\n",
    "df = pd.read_sql_query(query, conn)\n",
    "df \n"
   ]
  },
  {
   "cell_type": "code",
   "execution_count": null,
   "metadata": {},
   "outputs": [],
   "source": []
  },
  {
   "attachments": {},
   "cell_type": "markdown",
   "metadata": {},
   "source": [
    "## Customer Segment using SQL + Pandas"
   ]
  },
  {
   "cell_type": "code",
   "execution_count": 39,
   "metadata": {},
   "outputs": [
    {
     "data": {
      "text/html": [
       "<div>\n",
       "<style scoped>\n",
       "    .dataframe tbody tr th:only-of-type {\n",
       "        vertical-align: middle;\n",
       "    }\n",
       "\n",
       "    .dataframe tbody tr th {\n",
       "        vertical-align: top;\n",
       "    }\n",
       "\n",
       "    .dataframe thead th {\n",
       "        text-align: right;\n",
       "    }\n",
       "</style>\n",
       "<table border=\"1\" class=\"dataframe\">\n",
       "  <thead>\n",
       "    <tr style=\"text-align: right;\">\n",
       "      <th></th>\n",
       "      <th>customer_id</th>\n",
       "      <th>customer_name</th>\n",
       "      <th>total_sales</th>\n",
       "    </tr>\n",
       "  </thead>\n",
       "  <tbody>\n",
       "    <tr>\n",
       "      <th>0</th>\n",
       "      <td>1</td>\n",
       "      <td>John Doe</td>\n",
       "      <td>493.02</td>\n",
       "    </tr>\n",
       "    <tr>\n",
       "      <th>1</th>\n",
       "      <td>2</td>\n",
       "      <td>Jane Doe</td>\n",
       "      <td>629.64</td>\n",
       "    </tr>\n",
       "    <tr>\n",
       "      <th>2</th>\n",
       "      <td>3</td>\n",
       "      <td>Bob Smith</td>\n",
       "      <td>642.51</td>\n",
       "    </tr>\n",
       "    <tr>\n",
       "      <th>3</th>\n",
       "      <td>4</td>\n",
       "      <td>Alice Jones</td>\n",
       "      <td>616.77</td>\n",
       "    </tr>\n",
       "    <tr>\n",
       "      <th>4</th>\n",
       "      <td>5</td>\n",
       "      <td>David Brown</td>\n",
       "      <td>507.87</td>\n",
       "    </tr>\n",
       "    <tr>\n",
       "      <th>5</th>\n",
       "      <td>6</td>\n",
       "      <td>Emily Davis</td>\n",
       "      <td>516.78</td>\n",
       "    </tr>\n",
       "    <tr>\n",
       "      <th>6</th>\n",
       "      <td>7</td>\n",
       "      <td>Frank Wilson</td>\n",
       "      <td>613.80</td>\n",
       "    </tr>\n",
       "    <tr>\n",
       "      <th>7</th>\n",
       "      <td>8</td>\n",
       "      <td>Grace Lee</td>\n",
       "      <td>431.64</td>\n",
       "    </tr>\n",
       "    <tr>\n",
       "      <th>8</th>\n",
       "      <td>9</td>\n",
       "      <td>Henry Chen</td>\n",
       "      <td>405.90</td>\n",
       "    </tr>\n",
       "    <tr>\n",
       "      <th>9</th>\n",
       "      <td>10</td>\n",
       "      <td>Isabel Garcia</td>\n",
       "      <td>469.26</td>\n",
       "    </tr>\n",
       "  </tbody>\n",
       "</table>\n",
       "</div>"
      ],
      "text/plain": [
       "   customer_id  customer_name  total_sales\n",
       "0            1       John Doe       493.02\n",
       "1            2       Jane Doe       629.64\n",
       "2            3      Bob Smith       642.51\n",
       "3            4    Alice Jones       616.77\n",
       "4            5    David Brown       507.87\n",
       "5            6    Emily Davis       516.78\n",
       "6            7   Frank Wilson       613.80\n",
       "7            8      Grace Lee       431.64\n",
       "8            9     Henry Chen       405.90\n",
       "9           10  Isabel Garcia       469.26"
      ]
     },
     "execution_count": 39,
     "metadata": {},
     "output_type": "execute_result"
    }
   ],
   "source": [
    "# Execute the query and load results into a Panda DataFrame\n",
    "query = '''\n",
    "SELECT\n",
    "    customers.customer_id,\n",
    "    customers.first_name || ' ' || customers.last_name AS customer_name,\n",
    "    SUM(sales.total_price) AS total_sales\n",
    "FROM sales\n",
    "INNER JOIN customers ON sales.customer_id = customers.customer_id\n",
    "GROUP BY customers.customer_id\n",
    "''' \n",
    "\n",
    "df = pd.read_sql_query(query, conn)\n",
    "df"
   ]
  },
  {
   "cell_type": "code",
   "execution_count": 41,
   "metadata": {},
   "outputs": [
    {
     "data": {
      "text/html": [
       "<div>\n",
       "<style scoped>\n",
       "    .dataframe tbody tr th:only-of-type {\n",
       "        vertical-align: middle;\n",
       "    }\n",
       "\n",
       "    .dataframe tbody tr th {\n",
       "        vertical-align: top;\n",
       "    }\n",
       "\n",
       "    .dataframe thead th {\n",
       "        text-align: right;\n",
       "    }\n",
       "</style>\n",
       "<table border=\"1\" class=\"dataframe\">\n",
       "  <thead>\n",
       "    <tr style=\"text-align: right;\">\n",
       "      <th></th>\n",
       "      <th>customer_id</th>\n",
       "      <th>customer_name</th>\n",
       "      <th>total_sales</th>\n",
       "      <th>customer_segment</th>\n",
       "    </tr>\n",
       "  </thead>\n",
       "  <tbody>\n",
       "    <tr>\n",
       "      <th>2</th>\n",
       "      <td>3</td>\n",
       "      <td>Bob Smith</td>\n",
       "      <td>642.51</td>\n",
       "      <td>High Value</td>\n",
       "    </tr>\n",
       "    <tr>\n",
       "      <th>1</th>\n",
       "      <td>2</td>\n",
       "      <td>Jane Doe</td>\n",
       "      <td>629.64</td>\n",
       "      <td>High Value</td>\n",
       "    </tr>\n",
       "    <tr>\n",
       "      <th>3</th>\n",
       "      <td>4</td>\n",
       "      <td>Alice Jones</td>\n",
       "      <td>616.77</td>\n",
       "      <td>High Value</td>\n",
       "    </tr>\n",
       "    <tr>\n",
       "      <th>6</th>\n",
       "      <td>7</td>\n",
       "      <td>Frank Wilson</td>\n",
       "      <td>613.80</td>\n",
       "      <td>High Value</td>\n",
       "    </tr>\n",
       "    <tr>\n",
       "      <th>5</th>\n",
       "      <td>6</td>\n",
       "      <td>Emily Davis</td>\n",
       "      <td>516.78</td>\n",
       "      <td>High Value</td>\n",
       "    </tr>\n",
       "    <tr>\n",
       "      <th>4</th>\n",
       "      <td>5</td>\n",
       "      <td>David Brown</td>\n",
       "      <td>507.87</td>\n",
       "      <td>High Value</td>\n",
       "    </tr>\n",
       "    <tr>\n",
       "      <th>0</th>\n",
       "      <td>1</td>\n",
       "      <td>John Doe</td>\n",
       "      <td>493.02</td>\n",
       "      <td>High Value</td>\n",
       "    </tr>\n",
       "    <tr>\n",
       "      <th>9</th>\n",
       "      <td>10</td>\n",
       "      <td>Isabel Garcia</td>\n",
       "      <td>469.26</td>\n",
       "      <td>High Value</td>\n",
       "    </tr>\n",
       "    <tr>\n",
       "      <th>7</th>\n",
       "      <td>8</td>\n",
       "      <td>Grace Lee</td>\n",
       "      <td>431.64</td>\n",
       "      <td>Medium Value</td>\n",
       "    </tr>\n",
       "    <tr>\n",
       "      <th>8</th>\n",
       "      <td>9</td>\n",
       "      <td>Henry Chen</td>\n",
       "      <td>405.90</td>\n",
       "      <td>Medium Value</td>\n",
       "    </tr>\n",
       "  </tbody>\n",
       "</table>\n",
       "</div>"
      ],
      "text/plain": [
       "   customer_id  customer_name  total_sales customer_segment\n",
       "2            3      Bob Smith       642.51       High Value\n",
       "1            2       Jane Doe       629.64       High Value\n",
       "3            4    Alice Jones       616.77       High Value\n",
       "6            7   Frank Wilson       613.80       High Value\n",
       "5            6    Emily Davis       516.78       High Value\n",
       "4            5    David Brown       507.87       High Value\n",
       "0            1       John Doe       493.02       High Value\n",
       "9           10  Isabel Garcia       469.26       High Value\n",
       "7            8      Grace Lee       431.64     Medium Value\n",
       "8            9     Henry Chen       405.90     Medium Value"
      ]
     },
     "execution_count": 41,
     "metadata": {},
     "output_type": "execute_result"
    }
   ],
   "source": [
    "# Group the customers into segments\n",
    "bins = [0, 200, 450, float('inf')]\n",
    "labels = ['Low Value', 'Medium Value', 'High Value']\n",
    "df['customer_segment'] = pd.cut(df['total_sales'], bins=bins, labels=labels)\n",
    "\n",
    "# Order the data by total sales\n",
    "df = df.sort_values(by='total_sales', ascending=False)\n",
    "df "
   ]
  },
  {
   "cell_type": "code",
   "execution_count": 42,
   "metadata": {},
   "outputs": [],
   "source": [
    "# Close the database connection\n",
    "conn.close()"
   ]
  },
  {
   "cell_type": "code",
   "execution_count": null,
   "metadata": {},
   "outputs": [],
   "source": []
  }
 ],
 "metadata": {
  "kernelspec": {
   "display_name": "Python 3",
   "language": "python",
   "name": "python3"
  },
  "language_info": {
   "codemirror_mode": {
    "name": "ipython",
    "version": 3
   },
   "file_extension": ".py",
   "mimetype": "text/x-python",
   "name": "python",
   "nbconvert_exporter": "python",
   "pygments_lexer": "ipython3",
   "version": "3.9.13"
  },
  "orig_nbformat": 4
 },
 "nbformat": 4,
 "nbformat_minor": 2
}
